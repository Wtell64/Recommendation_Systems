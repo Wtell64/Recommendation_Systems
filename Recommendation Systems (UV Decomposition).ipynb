{
 "cells": [
  {
   "cell_type": "markdown",
   "metadata": {},
   "source": [
    "# Recommendation Systems"
   ]
  },
  {
   "cell_type": "code",
   "execution_count": null,
   "metadata": {},
   "outputs": [],
   "source": [
    "# importing libraries\n",
    "\n",
    "import pandas as pd\n",
    "import numpy as np\n",
    "from sklearn.model_selection import KFold\n",
    "import math\n",
    "from sklearn import linear_model"
   ]
  },
  {
   "cell_type": "code",
   "execution_count": null,
   "metadata": {},
   "outputs": [],
   "source": [
    "# loading in the data\n",
    "# adapted code from [1]\n",
    "\n",
    "users_columns = ['user_id', 'gender', 'age', 'occupation', 'zip_code']\n",
    "users = pd.read_table('users.dat', sep='::', header=None, names=users_columns, engine='python')\n",
    "\n",
    "ratings_columns = ['user_id', 'movie_id', 'rating', 'timestamp']\n",
    "ratings = pd.read_table('ratings.dat', sep='::', header=None, names=ratings_columns, engine='python')\n",
    "\n",
    "movies_columns = ['movie_id', 'title', 'genres']\n",
    "movies = pd.read_table('movies.dat', sep='::', header=None, names=movies_columns, engine='python')\n",
    "\n",
    "# merging dataframes\n",
    "merged = pd.merge(pd.merge(ratings, users), movies)"
   ]
  },
  {
   "cell_type": "code",
   "execution_count": null,
   "metadata": {},
   "outputs": [],
   "source": [
    "# grabbing columns that we will use\n",
    "trim = merged[['user_id', 'title','rating']]"
   ]
  },
  {
   "cell_type": "markdown",
   "metadata": {},
   "source": [
    "## UV Decomposition"
   ]
  },
  {
   "cell_type": "code",
   "execution_count": null,
   "metadata": {},
   "outputs": [],
   "source": [
    "ratings_columns = ['user_id', 'movie_id', 'rating', 'timestamp']\n",
    "df_ratings = pd.read_table('ratings.dat', sep='::', header=None, names=ratings_columns, engine='python')\n",
    "\n",
    "movies_columns = ['movie_id', 'title', 'genres']\n",
    "df_movies = pd.read_table('movies.dat', sep='::', header=None, names=movies_columns, engine='python')\n",
    "df_merged = pd.merge(df_ratings, df_movies) "
   ]
  },
  {
   "cell_type": "code",
   "execution_count": null,
   "metadata": {},
   "outputs": [],
   "source": [
    "np.random.seed(1938266)\n",
    "M = df_merged.pivot(index = \"user_id\", columns = \"title\", values = \"rating\") \n",
    "\n",
    "a = np.nanmean(M)  # nominator\n",
    "d = 2# For now 10, this represents the short side of U and V matrices. Can be changed later\n",
    "\n",
    "init_val = (a/d)**0.5\n",
    "\n",
    "U = np.random.normal(init_val,0.3,(M.shape[0],d))\n",
    "V = np.random.normal(init_val,0.3,(d,M.shape[1]))\n",
    "M = np.array(M)"
   ]
  },
  {
   "cell_type": "code",
   "execution_count": null,
   "metadata": {},
   "outputs": [],
   "source": [
    "# Define functions\n",
    "def Normalize(data):\n",
    "    global row_means \n",
    "    row_means = np.nanmean(M, axis = 1).reshape(-1,1)\n",
    "    row_means[np.isnan(row_means)] = 0\n",
    "    row_norm = data  - row_means #data.sub(row_means, axis=0)\n",
    "    global col_means\n",
    "    col_means = np.nanmean(row_norm, axis = 0)\n",
    "    norm_matrix = (row_norm - col_means)\n",
    "    col_means[np.isnan(col_means)] = 0 #row_norm.sub(col_means, axis = 1)\n",
    "    return norm_matrix #, row_means, col_means\n",
    "\n",
    "def Denormalize(data):\n",
    "    row_norm = data  + row_means #data.sub(row_means, axis=0)\n",
    "    norm_matrix = (row_norm + col_means) #row_norm.sub(col_means, axis = 1)\n",
    "    return norm_matrix\n",
    "\n",
    "def Rmse(M,U,V,denormalize = False):\n",
    "    P =np.dot(U,V)\n",
    "    if denormalize == True:\n",
    "        P = Denormalize(P)\n",
    "    nominator = 0\n",
    "    denominator = 0\n",
    "    rows, cols =  np.where(~np.isnan(M))\n",
    "    for element in zip(rows,cols):\n",
    "        i = element[0]\n",
    "        j = element[1]\n",
    "        nominator +=(M[i,j]-P[i,j])**2\n",
    "        denominator += 1\n",
    "    mean=float(nominator)/ denominator   #np.count_nonzero(~np.isnan(M))\n",
    "    \n",
    "    out = round(mean**(0.5),4)\n",
    "    \n",
    "    #print(out)\n",
    "    \n",
    "    return out\n",
    "def Update_U(M,U,V,show_output = False):\n",
    "    count = 0\n",
    "    total = U.shape[0] * U.shape[1]\n",
    "    for r in np.arange(U.shape[0]):\n",
    "        for s in np.arange(U.shape[1]):\n",
    "            m_r = np.array(M[r,:]).astype(\"float\")\n",
    "            if  np.isnan(m_r).all():\n",
    "                continue\n",
    "            v_s = np.array(V[s,:]).astype(\"float\")\n",
    "            v_s[np.isnan(m_r)]= np.nan\n",
    "            # To be able to skip nan values where m_{i}{j} is nan\n",
    "            second_sum = np.dot(np.delete(U[r,:],s,0),np.delete(V[:],s,0))\n",
    "            \n",
    "            numerator = np.nansum(V[s,:]*(m_r - second_sum))\n",
    "            \n",
    "            denominator=np.nansum(np.square(v_s))\n",
    "            \n",
    "            U[r,s]= numerator/denominator\n",
    "            count += 1\n",
    "        if show_output == True and count % 50 == 0:\n",
    "            print(f\" We are {count / total * 100} percent there , {U[r,s]}\")\n",
    "    return \n",
    "\n",
    "def Update_V(M,U,V,show_output = False):\n",
    "    count = 0\n",
    "    total = V.shape[0] *V.shape[1]\n",
    "    for s in np.arange(V.shape[1]):\n",
    "        for r in np.arange(V.shape[0]):\n",
    "            m_s=np.array(M[:,s])\n",
    "            if  np.isnan(m_s).all():\n",
    "                continue\n",
    "            u_r=np.array(U[:,r])\n",
    "            u_r[np.isnan(m_s)]=np.nan\n",
    "            second_sum = np.dot(np.delete(U[:],r,1),np.delete(V[:,s],r,0))\n",
    "            numerator = np.nansum(U[:, r] * (m_s - second_sum))\n",
    "            denominator=np.nansum(np.square(u_r))\n",
    "            V[r,s]=numerator/denominator\n",
    "            count += 1\n",
    "        if show_output == True and count % 50 == 0:\n",
    "            print(f\"We are {count/total * 100} percent there, {V[r,s]} \")\n",
    "    return \n",
    "\n",
    "def Train_function(data,U,V, denormalize = False):\n",
    "    \n",
    "    old_rmse = 0\n",
    "    new_rmse = 1\n",
    "    while round(old_rmse,2) != round(new_rmse,2):\n",
    "        Update_U(data,U,V)\n",
    "        Update_V(data,U,V)\n",
    "        old_rmse = new_rmse\n",
    "        new_rmse = Rmse(data,U,V, denormalize = denormalize)\n",
    "    return \n",
    "\n",
    "def Uv_cv(M,U,V,k = 5):\n",
    "    \n",
    "    # initializing list\n",
    "    rmse_per_fold = []\n",
    "    \n",
    "    # k-fold cross validation\n",
    "    kf = KFold(n_splits=k, shuffle = True, random_state=6)\n",
    "    \n",
    "    # rows and columns where entries are recorded\n",
    "    rows, cols =  np.where(~np.isnan(M))\n",
    "    \n",
    "    # initializing counter\n",
    "    count = 1\n",
    "    \n",
    "    for train_index, test_index in kf.split(rows):\n",
    "        # We'll make copied so that the original input values aren't changed\n",
    "        Uc = np.copy(U)\n",
    "        Vc = np.copy(V)\n",
    "        \n",
    "        # X matrix for training\n",
    "        M_train = np.copy(M)\n",
    "\n",
    "        # Training data row and column indices \n",
    "        train_rows = rows[train_index]\n",
    "        train_cols = cols[train_index]\n",
    "        \n",
    "        # Test data row and column indices\n",
    "        test_rows = rows[test_index]\n",
    "        test_cols = cols[test_index]\n",
    "        \n",
    "        # Changing entries that will be used for testing to 'nan' in the training matrix\n",
    "        M_train[test_rows, test_cols] = np.nan\n",
    "        \n",
    "        print(f'Training RMSE fold {count} :')\n",
    "        \n",
    "        Train_function(data = M_train, U = Uc, V = Vc, denormalize = False)\n",
    "        \n",
    "        # X matrix for testing\n",
    "        M_test = np.copy(M)\n",
    "        \n",
    "        # The 'Rmse' function ignores 'nan' entries when calculating the RMSE\n",
    "        # Changing entries that have been used for training to 'nan' in the test matrix\n",
    "        M_test[train_rows, train_cols] = np.nan\n",
    "        \n",
    "        # appending test RMSE to list\n",
    "        rmse_per_fold.append(Rmse(M = M_test,U = Uc,V = Vc ,denormalize = False))\n",
    "        \n",
    "        print('Test RMSE fold', count, ':', Rmse(M = M_test,U = Uc,V = Vc ,denormalize = False))\n",
    "        print('')\n",
    "        \n",
    "        count += 1\n",
    "        \n",
    "    return(rmse_per_fold)"
   ]
  },
  {
   "cell_type": "code",
   "execution_count": null,
   "metadata": {},
   "outputs": [],
   "source": [
    "# RMSE on full data before training\n",
    "Rmse(M,U,V)"
   ]
  },
  {
   "cell_type": "code",
   "execution_count": null,
   "metadata": {
    "scrolled": true
   },
   "outputs": [],
   "source": [
    "init_val = (a/d)**0.5\n",
    "U = np.random.normal(init_val,0.3,(M.shape[0],d)) #0.9181\n",
    "V = np.random.normal(init_val,0.3,(d,M.shape[1]))\n",
    "\n",
    "np.random.seed(1330)\n",
    "mf_5f_cv = Uv_cv(M = M, U=U, V=V, k=5)"
   ]
  },
  {
   "cell_type": "code",
   "execution_count": null,
   "metadata": {},
   "outputs": [],
   "source": [
    "np.mean(mf_5f_cv) # 0.979"
   ]
  },
  {
   "cell_type": "markdown",
   "metadata": {},
   "source": [
    "### CV with normalization"
   ]
  },
  {
   "cell_type": "code",
   "execution_count": null,
   "metadata": {},
   "outputs": [],
   "source": [
    "def Uv_normal_cv(M,U,V,k = 5):\n",
    "    \n",
    "    # initializing list\n",
    "    rmse_per_fold = []\n",
    "    \n",
    "    # k-fold cross validation\n",
    "    kf = KFold(n_splits=k, shuffle = True, random_state=6)\n",
    "    \n",
    "    # rows and columns where entries are recorded\n",
    "    rows, cols =  np.where(~np.isnan(M))\n",
    "    \n",
    "    # initializing counter\n",
    "    count = 1\n",
    "    \n",
    "    for train_index, test_index in kf.split(rows):\n",
    "        # We'll make copied so that the original input values aren't changed\n",
    "        Uc = np.copy(U)\n",
    "        Vc = np.copy(V)\n",
    "        \n",
    "        # X matrix for training\n",
    "        M_train = np.copy(M)\n",
    "        \n",
    "        \n",
    "        \n",
    "        # Training data row and column indices \n",
    "        train_rows = rows[train_index]\n",
    "        train_cols = cols[train_index]\n",
    "        \n",
    "        # Test data row and column indices\n",
    "        test_rows = rows[test_index]\n",
    "        test_cols = cols[test_index]\n",
    "        \n",
    "        # Changing entries that will be used for testing to 'nan' in the training matrix\n",
    "        M_train[test_rows, test_cols] = np.nan\n",
    "        \n",
    "        M_train = Normalize(M_train)\n",
    "        \n",
    "        \n",
    "        print(f'Training RMSE fold {count} :')\n",
    "        \n",
    "        Train_function(data = M_train, U = Uc, V = Vc, denormalize = True)\n",
    "        \n",
    "        # X matrix for testing\n",
    "        M_test = np.copy(M)\n",
    "        \n",
    "        # The 'Rmse' function ignores 'nan' entries when calculating the RMSE\n",
    "        # Changing entries that have been used for training to 'nan' in the test matrix\n",
    "        M_test[train_rows, train_cols] = np.nan\n",
    "        \n",
    "        # appending test RMSE to list\n",
    "        rmse_per_fold.append(Rmse(M = M_test,U = Uc,V = Vc ,denormalize = True))\n",
    "        \n",
    "        print('Test RMSE fold', count, ':', Rmse(M = M_test,U = Uc,V = Vc ,denormalize = True))\n",
    "        print('')\n",
    "        \n",
    "        count += 1\n",
    "        \n",
    "    return(rmse_per_fold)"
   ]
  },
  {
   "cell_type": "code",
   "execution_count": null,
   "metadata": {
    "scrolled": true
   },
   "outputs": [],
   "source": [
    "init_val = 0\n",
    "U = np.random.normal(init_val,0.3,(M.shape[0],d))\n",
    "V = np.random.normal(init_val,0.3,(d,M.shape[1]))\n",
    "\n",
    "np.random.seed(1337)\n",
    "mf_5f_cv = Uv_normal_cv(M = M, U=U, V=V, k=5)\n",
    "#The CV gives an error due to some rows having only NA values since we romove them from the train matrix\n",
    "#put them in test matrix. The algorithm still works fine since we change NA values to 0 in the normalizing \n",
    "#stage and everything works fine. So, the error can be ignored"
   ]
  },
  {
   "cell_type": "code",
   "execution_count": null,
   "metadata": {},
   "outputs": [],
   "source": [
    "np.mean(mf_5f_cv)"
   ]
  },
  {
   "cell_type": "code",
   "execution_count": 13,
   "metadata": {},
   "outputs": [
    {
     "name": "stdout",
     "output_type": "stream",
     "text": [
      "Training RMSE fold 1 :\n",
      "0.9254\n",
      "0.9167\n",
      "0.9144\n",
      "0.9108\n",
      "Test RMSE fold 1 : 0.9267\n",
      "\n",
      "Training RMSE fold 2 :\n",
      "0.9245\n",
      "0.916\n",
      "Test RMSE fold 2 : 0.9294\n",
      "\n",
      "Training RMSE fold 3 :\n",
      "0.924\n",
      "0.9154\n",
      "Test RMSE fold 3 : 0.9272\n",
      "\n",
      "Training RMSE fold 4 :\n",
      "0.9245\n",
      "0.9158\n",
      "Test RMSE fold 4 : 0.9289\n",
      "\n",
      "Training RMSE fold 5 :\n",
      "0.925\n",
      "0.9163\n",
      "0.9139\n",
      "0.9102\n",
      "Test RMSE fold 5 : 0.9246\n",
      "\n"
     ]
    }
   ],
   "source": [
    "init_val = (np.nanmean(X)/num_factors)**0.5\n",
    "U = np.random.normal(loc=init_val, scale=0.1, size=(X.shape[0], num_factors))\n",
    "M = np.random.normal(loc=init_val, scale=0.1, size=(num_factors, X.shape[1]))\n",
    "\n",
    "np.random.seed(1938266)\n",
    "mf_5f_cv = mf_cv(X=X, U=U, M=M, k=5)"
   ]
  },
  {
   "cell_type": "code",
   "execution_count": 14,
   "metadata": {
    "scrolled": true
   },
   "outputs": [
    {
     "data": {
      "text/plain": [
       "0.92736"
      ]
     },
     "execution_count": 14,
     "metadata": {},
     "output_type": "execute_result"
    }
   ],
   "source": [
    "np.mean(mf_5f_cv)"
   ]
  }
 ],
 "metadata": {
  "kernelspec": {
   "display_name": "Python 3 (ipykernel)",
   "language": "python",
   "name": "python3"
  },
  "language_info": {
   "codemirror_mode": {
    "name": "ipython",
    "version": 3
   },
   "file_extension": ".py",
   "mimetype": "text/x-python",
   "name": "python",
   "nbconvert_exporter": "python",
   "pygments_lexer": "ipython3",
   "version": "3.9.12"
  }
 },
 "nbformat": 4,
 "nbformat_minor": 4
}
