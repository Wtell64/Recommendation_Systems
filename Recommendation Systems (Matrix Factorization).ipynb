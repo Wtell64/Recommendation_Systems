{
 "cells": [
  {
   "cell_type": "markdown",
   "metadata": {},
   "source": [
    "# Recommendation Systems"
   ]
  },
  {
   "cell_type": "code",
   "execution_count": null,
   "metadata": {},
   "outputs": [],
   "source": [
    "# importing libraries\n",
    "\n",
    "import pandas as pd\n",
    "import numpy as np\n",
    "from sklearn.model_selection import KFold\n",
    "import math\n",
    "from sklearn import linear_model"
   ]
  },
  {
   "cell_type": "code",
   "execution_count": null,
   "metadata": {},
   "outputs": [],
   "source": [
    "# loading in the data\n",
    "# adapted code from [1]\n",
    "\n",
    "users_columns = ['user_id', 'gender', 'age', 'occupation', 'zip_code']\n",
    "users = pd.read_table('users.dat', sep='::', header=None, names=users_columns, engine='python')\n",
    "\n",
    "ratings_columns = ['user_id', 'movie_id', 'rating', 'timestamp']\n",
    "ratings = pd.read_table('ratings.dat', sep='::', header=None, names=ratings_columns, engine='python')\n",
    "\n",
    "movies_columns = ['movie_id', 'title', 'genres']\n",
    "movies = pd.read_table('movies.dat', sep='::', header=None, names=movies_columns, engine='python')\n",
    "\n",
    "# merging dataframes\n",
    "merged = pd.merge(pd.merge(ratings, users), movies)"
   ]
  },
  {
   "cell_type": "code",
   "execution_count": null,
   "metadata": {},
   "outputs": [],
   "source": [
    "# grabbing columns that we will use\n",
    "trim = merged[['user_id', 'title','rating']]"
   ]
  },
  {
   "cell_type": "markdown",
   "metadata": {},
   "source": [
    "## Matrix Facorization"
   ]
  },
  {
   "cell_type": "code",
   "execution_count": 3,
   "metadata": {},
   "outputs": [],
   "source": [
    "import pandas as pd\n",
    "import numpy as np\n",
    "from sklearn.model_selection import KFold"
   ]
  },
  {
   "cell_type": "code",
   "execution_count": 4,
   "metadata": {},
   "outputs": [],
   "source": [
    "ratings_columns = ['user_id', 'movie_id', 'rating', 'timestamp']\n",
    "df_ratings = pd.read_table('ratings.dat', sep='::', header=None, names=ratings_columns, engine='python')\n",
    "\n",
    "movies_columns = ['movie_id', 'title', 'genres']\n",
    "df_movies = pd.read_table('movies.dat', sep='::', header=None, names=movies_columns, engine='python')\n",
    "df_merged = pd.merge(df_ratings, df_movies) "
   ]
  },
  {
   "cell_type": "code",
   "execution_count": 5,
   "metadata": {},
   "outputs": [],
   "source": [
    "num_factors=10\n",
    "num_iter=75\n",
    "regularization=0.05\n",
    "learn_rate=0.005"
   ]
  },
  {
   "cell_type": "code",
   "execution_count": 6,
   "metadata": {},
   "outputs": [],
   "source": [
    "np.random.seed(1938266)\n",
    "X = df_merged.pivot(index = \"user_id\", columns = \"title\", values = \"rating\") \n",
    "X = np.array(X)"
   ]
  },
  {
   "cell_type": "code",
   "execution_count": 7,
   "metadata": {},
   "outputs": [],
   "source": [
    "a = np.nanmean(X) \n",
    "init_val = (a/num_factors)**0.5\n",
    "U = np.random.normal(init_val,0.1,(X.shape[0],num_factors))\n",
    "M = np.random.normal(init_val,0.1,(num_factors,X.shape[1]))"
   ]
  },
  {
   "cell_type": "code",
   "execution_count": 8,
   "metadata": {},
   "outputs": [
    {
     "data": {
      "text/plain": [
       "0.5984617325301023"
      ]
     },
     "execution_count": 8,
     "metadata": {},
     "output_type": "execute_result"
    }
   ],
   "source": [
    "init_val"
   ]
  },
  {
   "cell_type": "code",
   "execution_count": 9,
   "metadata": {},
   "outputs": [],
   "source": [
    "#Define function(s)\n",
    "\n",
    "def Rmse(M,U,X):\n",
    "    x_hat =np.dot(U,M)\n",
    "    \n",
    "    nominator = 0\n",
    "    denominator = 0\n",
    "    rows, cols =  np.where(~np.isnan(X))\n",
    "    for element in zip(rows,cols):\n",
    "        i = element[0]\n",
    "        j = element[1]\n",
    "        nominator +=(X[i,j]-x_hat[i,j])**2\n",
    "        denominator += 1\n",
    "    mean=float(nominator)/ denominator   #np.count_nonzero(~np.isnan(M))\n",
    "    \n",
    "    out = round(mean**(0.5),4)\n",
    "    \n",
    "    #print(out)\n",
    "    \n",
    "    return out\n",
    "    "
   ]
  },
  {
   "cell_type": "code",
   "execution_count": 10,
   "metadata": {},
   "outputs": [],
   "source": [
    "def Matrix_factorization(X,U,M):\n",
    "    old_rmse = 0\n",
    "    new_rmse = 1\n",
    "    count = 0\n",
    "    \n",
    "    rows, cols =  np.where(~np.isnan(X))\n",
    "    while round(old_rmse,2) != round(new_rmse,2):\n",
    "        for element in zip(rows,cols):\n",
    "            i = element[0]\n",
    "            j = element[1]\n",
    "            x_hat = np.dot(U[i,:],M[:,j])\n",
    "            error = X[i,j] -  x_hat\n",
    "            U[i,:] = U[i,:] + learn_rate * (2 * error * M[:,j] - regularization * U[i,:])\n",
    "            M[:,j] = M[:,j] + learn_rate * (2 * error * U[i,:] - regularization * M[:,j])\n",
    "            count += 1\n",
    "            \n",
    "        #if count % 5 == 0:\n",
    "            #print(f\"{count / total *100} percent\")\n",
    "        old_rmse = new_rmse\n",
    "        new_rmse = Rmse(M,U,X)\n",
    "        print(new_rmse)\n",
    "        \n",
    "    return"
   ]
  },
  {
   "cell_type": "code",
   "execution_count": 11,
   "metadata": {},
   "outputs": [
    {
     "data": {
      "text/plain": [
       "1.1433"
      ]
     },
     "execution_count": 11,
     "metadata": {},
     "output_type": "execute_result"
    }
   ],
   "source": [
    "Rmse(M,U,X)"
   ]
  },
  {
   "cell_type": "code",
   "execution_count": 12,
   "metadata": {},
   "outputs": [],
   "source": [
    "def mf_cv(X, U, M, k):\n",
    "    \n",
    "    # initializing list\n",
    "    rmse_per_fold = []\n",
    "    \n",
    "    # k-fold cross validation\n",
    "    kf = KFold(n_splits=k, shuffle=True)\n",
    "    \n",
    "    # rows and columns where entries are recorded\n",
    "    rows, cols =  np.where(~np.isnan(X))\n",
    "    \n",
    "    # initializing counter\n",
    "    count = 1\n",
    "    \n",
    "    # Indices of training and test data \n",
    "    for train_index, test_index in kf.split(rows):\n",
    "        \n",
    "        # We'll make copied so that the original input values aren't changed\n",
    "        Uc = np.copy(U)\n",
    "        Mc = np.copy(M)\n",
    "        # X matrix for training\n",
    "        X_train = np.copy(X)\n",
    "        \n",
    "        # Training data row and column indices \n",
    "        train_rows = rows[train_index]\n",
    "        train_cols = cols[train_index]\n",
    "        \n",
    "        # Test data row and column indices\n",
    "        test_rows = rows[test_index]\n",
    "        test_cols = cols[test_index]\n",
    "        \n",
    "        # The 'matrix_factorization' function ignores 'nan' entries when updating 'U' and 'M'\n",
    "        # Changing entries that will be used for testing to 'nan' in the training matrix\n",
    "        X_train[test_rows, test_cols] = np.nan\n",
    "    \n",
    "        print('Training RMSE fold', count, ':')\n",
    "        # output printed ...\n",
    "        Matrix_factorization(X=X_train, U=Uc, M=Mc) \n",
    "        \n",
    "        # X matrix for testing\n",
    "        X_test = np.copy(X)\n",
    "        \n",
    "        # The 'Rmse' function ignores 'nan' entries when calculating the RMSE\n",
    "        # Changing entries that have been used for training to 'nan' in the test matrix\n",
    "        X_test[train_rows, train_cols] = np.nan\n",
    "        \n",
    "        # appending test RMSE to list\n",
    "        rmse_per_fold.append(Rmse(X=X_test, U=Uc, M=Mc))\n",
    "        \n",
    "        print('Test RMSE fold', count, ':', Rmse(X=X_test, U=Uc, M=Mc))\n",
    "        print('')\n",
    "        \n",
    "        count += 1\n",
    "        \n",
    "    return(rmse_per_fold)"
   ]
  },
  {
   "cell_type": "code",
   "execution_count": 13,
   "metadata": {},
   "outputs": [
    {
     "name": "stdout",
     "output_type": "stream",
     "text": [
      "Training RMSE fold 1 :\n",
      "0.9254\n",
      "0.9167\n",
      "0.9144\n",
      "0.9108\n",
      "Test RMSE fold 1 : 0.9267\n",
      "\n",
      "Training RMSE fold 2 :\n",
      "0.9245\n",
      "0.916\n",
      "Test RMSE fold 2 : 0.9294\n",
      "\n",
      "Training RMSE fold 3 :\n",
      "0.924\n",
      "0.9154\n",
      "Test RMSE fold 3 : 0.9272\n",
      "\n",
      "Training RMSE fold 4 :\n",
      "0.9245\n",
      "0.9158\n",
      "Test RMSE fold 4 : 0.9289\n",
      "\n",
      "Training RMSE fold 5 :\n",
      "0.925\n",
      "0.9163\n",
      "0.9139\n",
      "0.9102\n",
      "Test RMSE fold 5 : 0.9246\n",
      "\n"
     ]
    }
   ],
   "source": [
    "init_val = (np.nanmean(X)/num_factors)**0.5\n",
    "U = np.random.normal(loc=init_val, scale=0.1, size=(X.shape[0], num_factors))\n",
    "M = np.random.normal(loc=init_val, scale=0.1, size=(num_factors, X.shape[1]))\n",
    "\n",
    "np.random.seed(1938266)\n",
    "mf_5f_cv = mf_cv(X=X, U=U, M=M, k=5)"
   ]
  },
  {
   "cell_type": "code",
   "execution_count": 14,
   "metadata": {},
   "outputs": [
    {
     "data": {
      "text/plain": [
       "0.92736"
      ]
     },
     "execution_count": 14,
     "metadata": {},
     "output_type": "execute_result"
    }
   ],
   "source": [
    "np.mean(mf_5f_cv)"
   ]
  }
 ],
 "metadata": {
  "kernelspec": {
   "display_name": "Python 3 (ipykernel)",
   "language": "python",
   "name": "python3"
  },
  "language_info": {
   "codemirror_mode": {
    "name": "ipython",
    "version": 3
   },
   "file_extension": ".py",
   "mimetype": "text/x-python",
   "name": "python",
   "nbconvert_exporter": "python",
   "pygments_lexer": "ipython3",
   "version": "3.9.12"
  }
 },
 "nbformat": 4,
 "nbformat_minor": 4
}
